{
 "cells": [
  {
   "cell_type": "markdown",
   "id": "2752f03e",
   "metadata": {},
   "source": [
    "# <font color='blue'>Forecasting stock price using artificial neural network and genetic algorithm</font>"
   ]
  },
  {
   "cell_type": "markdown",
   "id": "7c14eebf",
   "metadata": {},
   "source": [
    "## Capstone Project\n",
    "Data Source: https://finance.yahoo.com/"
   ]
  },
  {
   "cell_type": "code",
   "execution_count": 1,
   "id": "e758f9cd",
   "metadata": {},
   "outputs": [],
   "source": [
    "# import the required libraries\n",
    "\n",
    "import re\n",
    "\n",
    "import pandas as pd\n",
    "import numpy as np\n",
    "import matplotlib.pyplot  as plt\n",
    "\n",
    "import yfinance as yf\n",
    "\n",
    "from sklearn.model_selection import train_test_split\n",
    "from sklearn.preprocessing import MinMaxScaler\n",
    "from tensorflow.keras.models import Sequential\n",
    "from tensorflow.keras.layers import Dense"
   ]
  },
  {
   "cell_type": "code",
   "execution_count": 2,
   "id": "c41af69e",
   "metadata": {},
   "outputs": [
    {
     "name": "stderr",
     "output_type": "stream",
     "text": [
      "[*********************100%%**********************]  1 of 1 completed\n",
      "[*********************100%%**********************]  1 of 1 completed\n",
      "[*********************100%%**********************]  1 of 1 completed\n"
     ]
    },
    {
     "data": {
      "text/html": [
       "<div>\n",
       "<style scoped>\n",
       "    .dataframe tbody tr th:only-of-type {\n",
       "        vertical-align: middle;\n",
       "    }\n",
       "\n",
       "    .dataframe tbody tr th {\n",
       "        vertical-align: top;\n",
       "    }\n",
       "\n",
       "    .dataframe thead th {\n",
       "        text-align: right;\n",
       "    }\n",
       "</style>\n",
       "<table border=\"1\" class=\"dataframe\">\n",
       "  <thead>\n",
       "    <tr style=\"text-align: right;\">\n",
       "      <th></th>\n",
       "      <th>Open</th>\n",
       "      <th>High</th>\n",
       "      <th>Low</th>\n",
       "      <th>Close</th>\n",
       "      <th>Adj Close</th>\n",
       "      <th>Volume</th>\n",
       "      <th>Index</th>\n",
       "    </tr>\n",
       "    <tr>\n",
       "      <th>Date</th>\n",
       "      <th></th>\n",
       "      <th></th>\n",
       "      <th></th>\n",
       "      <th></th>\n",
       "      <th></th>\n",
       "      <th></th>\n",
       "      <th></th>\n",
       "    </tr>\n",
       "  </thead>\n",
       "  <tbody>\n",
       "    <tr>\n",
       "      <th>2015-01-02</th>\n",
       "      <td>17823.070312</td>\n",
       "      <td>17951.779297</td>\n",
       "      <td>17731.300781</td>\n",
       "      <td>17832.990234</td>\n",
       "      <td>17832.990234</td>\n",
       "      <td>76270000</td>\n",
       "      <td>^DJI</td>\n",
       "    </tr>\n",
       "    <tr>\n",
       "      <th>2015-01-05</th>\n",
       "      <td>17821.300781</td>\n",
       "      <td>17821.300781</td>\n",
       "      <td>17475.929688</td>\n",
       "      <td>17501.650391</td>\n",
       "      <td>17501.650391</td>\n",
       "      <td>116160000</td>\n",
       "      <td>^DJI</td>\n",
       "    </tr>\n",
       "    <tr>\n",
       "      <th>2015-01-06</th>\n",
       "      <td>17504.179688</td>\n",
       "      <td>17581.050781</td>\n",
       "      <td>17262.369141</td>\n",
       "      <td>17371.640625</td>\n",
       "      <td>17371.640625</td>\n",
       "      <td>101870000</td>\n",
       "      <td>^DJI</td>\n",
       "    </tr>\n",
       "    <tr>\n",
       "      <th>2015-01-07</th>\n",
       "      <td>17374.779297</td>\n",
       "      <td>17597.080078</td>\n",
       "      <td>17374.779297</td>\n",
       "      <td>17584.519531</td>\n",
       "      <td>17584.519531</td>\n",
       "      <td>91030000</td>\n",
       "      <td>^DJI</td>\n",
       "    </tr>\n",
       "    <tr>\n",
       "      <th>2015-01-08</th>\n",
       "      <td>17591.970703</td>\n",
       "      <td>17916.039062</td>\n",
       "      <td>17591.970703</td>\n",
       "      <td>17907.869141</td>\n",
       "      <td>17907.869141</td>\n",
       "      <td>114890000</td>\n",
       "      <td>^DJI</td>\n",
       "    </tr>\n",
       "  </tbody>\n",
       "</table>\n",
       "</div>"
      ],
      "text/plain": [
       "                    Open          High           Low         Close  \\\n",
       "Date                                                                 \n",
       "2015-01-02  17823.070312  17951.779297  17731.300781  17832.990234   \n",
       "2015-01-05  17821.300781  17821.300781  17475.929688  17501.650391   \n",
       "2015-01-06  17504.179688  17581.050781  17262.369141  17371.640625   \n",
       "2015-01-07  17374.779297  17597.080078  17374.779297  17584.519531   \n",
       "2015-01-08  17591.970703  17916.039062  17591.970703  17907.869141   \n",
       "\n",
       "               Adj Close     Volume Index  \n",
       "Date                                       \n",
       "2015-01-02  17832.990234   76270000  ^DJI  \n",
       "2015-01-05  17501.650391  116160000  ^DJI  \n",
       "2015-01-06  17371.640625  101870000  ^DJI  \n",
       "2015-01-07  17584.519531   91030000  ^DJI  \n",
       "2015-01-08  17907.869141  114890000  ^DJI  "
      ]
     },
     "execution_count": 2,
     "metadata": {},
     "output_type": "execute_result"
    }
   ],
   "source": [
    "# Index symbols\n",
    "#Dow Jones Industrial Average - DJI\n",
    "#S&P 500 - GSPC\n",
    "#NASDAQ Composite - IXIC\n",
    "\n",
    "sdate = \"2015-01-01\"\n",
    "edate = \"2023-12-31\"\n",
    "symbols = ['^DJI','^GSPC','^IXIC']\n",
    "\n",
    "# Download data from yahoo finance\n",
    "dfs = []\n",
    "for symbol in symbols:\n",
    "    yfdata = yf.download(symbol, start=sdate, end=edate)\n",
    "    yfdata['Index'] = symbol\n",
    "    dfs.append(yfdata)\n",
    "\n",
    "# Concatenate the individual DataFrames into one\n",
    "idx_data = pd.concat(dfs)\n",
    "idx_data.head()"
   ]
  },
  {
   "cell_type": "code",
   "execution_count": 3,
   "id": "8fc5a1cf",
   "metadata": {},
   "outputs": [
    {
     "data": {
      "text/plain": [
       "Index\n",
       "DJI     2264\n",
       "GSPC    2264\n",
       "IXIC    2264\n",
       "Name: count, dtype: int64"
      ]
     },
     "execution_count": 3,
     "metadata": {},
     "output_type": "execute_result"
    }
   ],
   "source": [
    "#clean the Index name in the Index column\n",
    "idx_data['Index'] = idx_data['Index'].apply(lambda x: re.sub(\"\\^\",\"\",x) )\n",
    "idx_data['Index'].value_counts()"
   ]
  },
  {
   "cell_type": "markdown",
   "id": "e766e515",
   "metadata": {},
   "source": [
    "### Check for data completeness i.e. zero datapoints or NA datapoints"
   ]
  },
  {
   "cell_type": "code",
   "execution_count": 4,
   "id": "66ab2699",
   "metadata": {},
   "outputs": [
    {
     "data": {
      "text/plain": [
       "Open         0\n",
       "High         0\n",
       "Low          0\n",
       "Close        0\n",
       "Adj Close    0\n",
       "Volume       0\n",
       "Index        0\n",
       "dtype: int64"
      ]
     },
     "execution_count": 4,
     "metadata": {},
     "output_type": "execute_result"
    }
   ],
   "source": [
    "(idx_data == 0).sum()"
   ]
  },
  {
   "cell_type": "markdown",
   "id": "39c76e31",
   "metadata": {},
   "source": [
    "Check for NA or Null datapoints"
   ]
  },
  {
   "cell_type": "code",
   "execution_count": 5,
   "id": "f125c85e",
   "metadata": {},
   "outputs": [
    {
     "data": {
      "text/plain": [
       "Open         0\n",
       "High         0\n",
       "Low          0\n",
       "Close        0\n",
       "Adj Close    0\n",
       "Volume       0\n",
       "Index        0\n",
       "dtype: int64"
      ]
     },
     "execution_count": 5,
     "metadata": {},
     "output_type": "execute_result"
    }
   ],
   "source": [
    "idx_data.isnull().sum()"
   ]
  },
  {
   "cell_type": "code",
   "execution_count": 6,
   "id": "f8bfd43f",
   "metadata": {},
   "outputs": [
    {
     "name": "stdout",
     "output_type": "stream",
     "text": [
      "6792\n"
     ]
    }
   ],
   "source": [
    "# size\n",
    "row = idx_data.shape[0]\n",
    "print(row)"
   ]
  },
  {
   "cell_type": "markdown",
   "id": "090e6689",
   "metadata": {},
   "source": [
    "Plot the Closing price timeseries for each index"
   ]
  },
  {
   "cell_type": "code",
   "execution_count": 7,
   "id": "dc34d0ac",
   "metadata": {},
   "outputs": [
    {
     "data": {
      "text/plain": [
       "['DJI', 'GSPC', 'IXIC']"
      ]
     },
     "execution_count": 7,
     "metadata": {},
     "output_type": "execute_result"
    }
   ],
   "source": [
    "symbols1 = [re.sub(\"\\^\",\"\", x ) for x in symbols]\n",
    "symbols1"
   ]
  },
  {
   "cell_type": "code",
   "execution_count": 8,
   "id": "ea37d7fa",
   "metadata": {},
   "outputs": [
    {
     "data": {
      "image/png": "[encoded data removed]",
      "text/plain": [
       "<Figure size 1000x600 with 1 Axes>"
      ]
     },
     "metadata": {},
     "output_type": "display_data"
    }
   ],
   "source": [
    "# Plot the closing price for each index\n",
    "plt.figure(figsize=(10, 6))\n",
    "for symbol in symbols1:\n",
    "    ticker_data = idx_data[idx_data['Index'] == symbol]\n",
    "    plt.plot(ticker_data.index, ticker_data['Close'], label=symbol)\n",
    "\n",
    "plt.title('Closing Price for indices')\n",
    "plt.xlabel('Date')\n",
    "plt.ylabel('Closing Price')\n",
    "plt.legend()\n",
    "plt.grid(True)\n",
    "plt.show()"
   ]
  },
  {
   "cell_type": "markdown",
   "id": "7741672b",
   "metadata": {},
   "source": [
    "### Derive technical indicators"
   ]
  },
  {
   "cell_type": "markdown",
   "id": "2b4bb59e",
   "metadata": {},
   "source": [
    "\n",
    "\n",
    "    1\tOpen\t          The open price\n",
    "    2\tLow               The lowest price\n",
    "    3\tHigh\t          The highest price\n",
    "    4\tClose             The closing price\n",
    "    5\tVolume            Number of shares traded\n",
    "    6\tSMA-5             5-days simple moving average\n",
    "    7\tSMA-10\t        10-days simple moving average\n",
    "    8\tEMA-5             5-days exponential moving average\n",
    "    9\tMP\t            Mean Price\n",
    "    10   TP\t            Typical Price\n",
    "    11   RSI               Relative Strength Index\n",
    "    12   Williams %R       Williams Percent Range\n",
    "    13   Upper Band\t    Upper Bolinger Band\n",
    "    14   Lower Band\t    Lower Bolinger Band\n",
    "    15   ROC\t           Rate of Change\n",
    "    16   ATR\t           Average True Range\t\n",
    "    17   ADL\t           Accumulation distribution Line\n",
    "    18   MFI\t           Money Flow Index\n",
    "    19   CCI\t           Commodity Channel Index"
   ]
  },
  {
   "cell_type": "code",
   "execution_count": 9,
   "id": "dc443ba9",
   "metadata": {},
   "outputs": [],
   "source": [
    "# Compute technical indicators\n",
    "\n",
    "# calculate simple moving avergae\n",
    "def SMA(data, window):\n",
    "    cname = 'SMA_' + str(window)\n",
    "    data[cname] = data.groupby('Index')['Close'].rolling(window).mean().reset_index(0, drop=True)\n",
    "    return data\n",
    "\n",
    "def EMA(data, window):\n",
    "    def cal_EMA(closepx, window):\n",
    "        k = 2 / (window+1)\n",
    "        nrow = closepx.size\n",
    "        ema = [np.nan] * nrow\n",
    "        ema[window - 1] = np.mean(closepx[:window])\n",
    "        for i in range(window, nrow):\n",
    "            ema[i] = (closepx.iloc[i] * k) + (ema[i - 1] * (1 - k))\n",
    "        return ema\n",
    "    cname = 'EMA_' + str(window)\n",
    "    data[cname] = data.groupby('Index')['Close'].transform(lambda x: cal_EMA(x,window))\n",
    "    return data\n",
    "\n",
    "# calculate the Bollinger Bands \n",
    "def Bollinger_bands(data, window):\n",
    "    data[\"MA\"] = data.groupby('Index')['Close'].rolling(window).mean().reset_index(0, drop=True)\n",
    "    data[\"SD\"] = data.groupby('Index')['Close'].rolling(window).std().reset_index(0, drop=True)\n",
    "    data['UpperBand'] = data[\"MA\"] + (2 * data[\"SD\"] ) \n",
    "    data['LowerBand'] = data[\"MA\"] - (2 * data[\"SD\"] )\n",
    "    data = data.drop(['MA', 'SD'], axis=1)\n",
    "    return data\n",
    "\n",
    "# calculate rate of change\n",
    "def ROC(data, window):\n",
    "    def cal_ROC(closepx, window):\n",
    "        roc = closepx.pct_change(periods=window)\n",
    "        return roc\n",
    "    data['ROC'] = data.groupby('Index')['Close'].transform(lambda x: cal_ROC(x,window))\n",
    "    return data\n",
    "\n",
    "# calculate RSI values\n",
    "def RSI(data, window):\n",
    "    def cal_RSI(closepx,window):\n",
    "        diff = closepx.diff(1)\n",
    "        up_direction = diff.where(diff > 0, 0.0)\n",
    "        down_direction = -diff.where(diff < 0, 0.0)\n",
    "        min_periods = window\n",
    "        emaup = up_direction.ewm(\n",
    "            alpha=1 / window, min_periods=min_periods, adjust=False\n",
    "        ).mean()\n",
    "        emadn = down_direction.ewm(\n",
    "            alpha=1 / window, min_periods=min_periods, adjust=False\n",
    "        ).mean()\n",
    "        relative_strength = emaup / emadn\n",
    "        rsi = pd.Series(\n",
    "            np.where(emadn == 0, 100, 100 - (100 / (1 + relative_strength))),\n",
    "            index=closepx.index,\n",
    "        )\n",
    "        return rsi\n",
    "    data['RSI'] = data.groupby('Index')['Close'].transform(lambda x: cal_RSI(x,window))\n",
    "    return data\n",
    "\n",
    "#Below indicators used more than one parameter in addition to Close. They also use High and Low prices.\n",
    "# Volume based indicator also use Volume as their input\n",
    "\n",
    "def williamsR(df,window):\n",
    "    high = df[\"High\"]\n",
    "    low = df[\"Low\"]\n",
    "    close = df[\"Close\"]\n",
    "    highest_high = high.rolling( window).max()  # highest high over the window\n",
    "    lowest_low =  low.rolling(window  ).min()  # lowest low over the window\n",
    "    wr = -100 * (highest_high - close) / (highest_high - lowest_low)\n",
    "    return wr\n",
    "\n",
    "def ATR(df, window):\n",
    "    high =   df['High']\n",
    "    low =    df['Low']\n",
    "    close =  df['Close']\n",
    "    pclose = df['Close'].shift(1)\n",
    "    tr1 =    high - low\n",
    "    tr2 = (high - pclose).abs()\n",
    "    tr3 = (low - pclose).abs()\n",
    "    true_range = pd.DataFrame(data={\"tr1\": tr1, \"tr2\": tr2, \"tr3\": tr3}).max(axis=1)\n",
    "    atr = np.full(len(close), np.nan)\n",
    "    atr[window - 1] = true_range[0 : window].mean()\n",
    "    for i in range(window, len(atr)):\n",
    "        atr[i] = (atr[i - 1] * (window - 1) + true_range.iloc[i]) / float( window )\n",
    "    #atr = pd.Series(data=atr)\n",
    "    return atr\n",
    "\n",
    "def ADI(df):\n",
    "    high =   df['High']\n",
    "    low =    df['Low']\n",
    "    close =  df['Close']\n",
    "    volume = df['Volume']\n",
    "    clv = ((close - low) - (high - close)) / ( high - low)\n",
    "    clv = clv.fillna(0.0)  # float division by zero\n",
    "    adi = clv * volume\n",
    "    adi = adi.cumsum()\n",
    "    return adi\n",
    "\n",
    "def MFI(df,window):\n",
    "    high =   df['High']\n",
    "    low =    df['Low']\n",
    "    close =  df['Close']\n",
    "    volume = df['Volume']\n",
    "    TP = (high + low + close) / 3.0\n",
    "    up_down = np.where( TP > TP.shift(1), 1, np.where(TP < TP.shift(1), -1, 0),)\n",
    "    mfr = TP * volume * up_down\n",
    "\n",
    "    n_positive_mf = mfr.rolling(window).apply(lambda x: np.sum(np.where(x >= 0.0, x, 0.0)), raw=True )\n",
    "    n_negative_mf = abs(mfr.rolling(window).apply(lambda x: np.sum(np.where(x < 0.0, x, 0.0)), raw=True))\n",
    "    \n",
    "    mfi = n_positive_mf / n_negative_mf\n",
    "    mfi = 100 - (100 / (1 + mfi))\n",
    "    \n",
    "    return mfi\n",
    "\n",
    "def CCI(df,window):\n",
    "    high =   df['High']\n",
    "    low =    df['Low']\n",
    "    close =  df['Close']\n",
    "    TP = (high + low + close) / 3.0\n",
    "    constant = 0.015\n",
    "    def _mad(x):\n",
    "        return np.mean(np.abs(x - np.mean(x)))\n",
    "    \n",
    "    cci = ( TP - TP.rolling(window).mean() ) / (\n",
    "            constant  * TP.rolling(window).apply( _mad, True  )\n",
    "    )\n",
    "    return cci"
   ]
  },
  {
   "cell_type": "code",
   "execution_count": 10,
   "id": "e5b4c5f8",
   "metadata": {},
   "outputs": [],
   "source": [
    "#calculate technical indicator\n",
    "\n",
    "idx_data[\"MP\"] =  (idx_data[\"High\"] + idx_data[\"Low\"]  ) / 2.0\n",
    "idx_data[\"TP\"] = (idx_data[\"High\"] + idx_data[\"Low\"] + idx_data[\"Close\"]  ) / 3.0\n",
    "idx_data = SMA(idx_data,5)\n",
    "idx_data = SMA(idx_data,10)\n",
    "idx_data = EMA(idx_data,5)\n",
    "idx_data = RSI(idx_data,20)\n",
    "idx_data = Bollinger_bands(idx_data,20)\n",
    "idx_data = ROC(idx_data,1)"
   ]
  },
  {
   "cell_type": "code",
   "execution_count": 11,
   "id": "f751a6fe",
   "metadata": {},
   "outputs": [],
   "source": [
    "# Now, separate each index data from the combined data \n",
    "dow    = idx_data[idx_data[\"Index\"] == \"DJI\"]\n",
    "sp5    = idx_data[idx_data[\"Index\"] == \"GSPC\"]\n",
    "nasdaq = idx_data[idx_data[\"Index\"] == \"IXIC\"]\n",
    "\n",
    "with pd.option_context('mode.chained_assignment', None):\n",
    "    \n",
    "    #calculate technical indicators where more than one price parameter [Close] is used.\n",
    "    dow[\"WR\"] = williamsR(dow,14)\n",
    "    dow[\"ATR\"] = ATR(dow,14)\n",
    "    dow[\"ADI\"] = ADI(dow)\n",
    "    dow[\"MFI\"] = MFI(dow,14)\n",
    "    dow[\"CCI\"] = CCI(dow,20)\n",
    "\n",
    "    sp5[\"WR\"] = williamsR(sp5,14)\n",
    "    sp5[\"ATR\"] = ATR(sp5,14)\n",
    "    sp5[\"ADI\"] = ADI(sp5)\n",
    "    sp5[\"MFI\"] = MFI(sp5,14)\n",
    "    sp5[\"CCI\"] = CCI(sp5,20)\n",
    "\n",
    "    nasdaq[\"WR\"] = williamsR(nasdaq,14)\n",
    "    nasdaq[\"ATR\"] = ATR(nasdaq,14)\n",
    "    nasdaq[\"ADI\"] = ADI(nasdaq)\n",
    "    nasdaq[\"MFI\"] = MFI(nasdaq,14)\n",
    "    nasdaq[\"CCI\"] = CCI(nasdaq,20)\n",
    "    \n",
    "    # Target price is next day closing price\n",
    "    dow['Targetprice']    = dow['Close'].shift(-1)\n",
    "    sp5['Targetprice']    = sp5['Close'].shift(-1)\n",
    "    nasdaq['Targetprice'] = nasdaq['Close'].shift(-1)"
   ]
  },
  {
   "cell_type": "code",
   "execution_count": 12,
   "id": "6c915fc2",
   "metadata": {
    "scrolled": true
   },
   "outputs": [
    {
     "data": {
      "text/plain": [
       "Index(['Open', 'High', 'Low', 'Close', 'Adj Close', 'Volume', 'Index', 'MP',\n",
       "       'TP', 'SMA_5', 'SMA_10', 'EMA_5', 'RSI', 'UpperBand', 'LowerBand',\n",
       "       'ROC', 'WR', 'ATR', 'ADI', 'MFI', 'CCI', 'Targetprice'],\n",
       "      dtype='object')"
      ]
     },
     "execution_count": 12,
     "metadata": {},
     "output_type": "execute_result"
    }
   ],
   "source": [
    "dow.columns"
   ]
  },
  {
   "cell_type": "code",
   "execution_count": 13,
   "id": "7963d3dc",
   "metadata": {},
   "outputs": [],
   "source": [
    "# Remove NAN or NA values from the dataframe\n",
    "with pd.option_context('mode.chained_assignment', None):\n",
    "    dow.dropna(inplace=True)\n",
    "    sp5.dropna(inplace=True)\n",
    "    nasdaq.dropna(inplace=True)"
   ]
  },
  {
   "cell_type": "code",
   "execution_count": 14,
   "id": "06c5a0a1",
   "metadata": {},
   "outputs": [
    {
     "data": {
      "text/plain": [
       "(2244, 22)"
      ]
     },
     "execution_count": 14,
     "metadata": {},
     "output_type": "execute_result"
    }
   ],
   "source": [
    "dow.shape"
   ]
  },
  {
   "cell_type": "markdown",
   "id": "fe2232cb",
   "metadata": {},
   "source": [
    "### Artifical Neural Network (ANN) Training"
   ]
  },
  {
   "cell_type": "markdown",
   "id": "b6ebb3be",
   "metadata": {},
   "source": [
    "We will train the ANN model on the Dow index. We have 19 features in the input layer. Output layer consits of 1 Node i.e. predicted closing price. Down index had total 2244 rows. Out of this 80% data is used for training and 20% data is used for out-of-sample testing. Input features are scaled using MinMaxScaler to bring all the features on a same scale. This results in a dataset with values ranging between 0 and 1"
   ]
  },
  {
   "cell_type": "code",
   "execution_count": 15,
   "id": "f13c0576",
   "metadata": {},
   "outputs": [
    {
     "name": "stdout",
     "output_type": "stream",
     "text": [
      "(1795, 19)\n",
      "(449, 19)\n",
      "(1795,)\n",
      "(449,)\n"
     ]
    }
   ],
   "source": [
    "X = dow.drop(['Adj Close','Index','Targetprice'], axis=1)\n",
    "y = dow['Targetprice']\n",
    "\n",
    "# Min-Max scaling on input features\n",
    "scaler = MinMaxScaler()\n",
    "X_scaled = scaler.fit_transform(X)\n",
    "\n",
    "# Train-Test split\n",
    "X_train, X_test, y_train, y_test = train_test_split(X_scaled, y, test_size=0.2, random_state=42)\n",
    "\n",
    "print(X_train.shape)\n",
    "print(X_test.shape)\n",
    "print(y_train.shape)\n",
    "print(y_test.shape)"
   ]
  },
  {
   "cell_type": "code",
   "execution_count": 16,
   "id": "2fb5a0df",
   "metadata": {},
   "outputs": [
    {
     "name": "stderr",
     "output_type": "stream",
     "text": [
      "C:\\Users\\hjeen\\anaconda3\\lib\\site-packages\\keras\\src\\layers\\core\\dense.py:88: UserWarning: Do not pass an `input_shape`/`input_dim` argument to a layer. When using Sequential models, prefer using an `Input(shape)` object as the first layer in the model instead.\n",
      "  super().__init__(activity_regularizer=activity_regularizer, **kwargs)\n"
     ]
    }
   ],
   "source": [
    "# The neural network model\n",
    "model = Sequential([\n",
    "    Dense(20, activation='relu', input_shape=(X_train.shape[1],)),  # One hidden layer with 32 neurons\n",
    "    Dense(1)  # Output layer with one neuron (for price prediction)\n",
    "])"
   ]
  },
  {
   "cell_type": "code",
   "execution_count": 17,
   "id": "d0f42d9b",
   "metadata": {},
   "outputs": [
    {
     "name": "stdout",
     "output_type": "stream",
     "text": [
      "Epoch 1/50\n",
      "\u001b[1m57/57\u001b[0m \u001b[32m━━━━━━━━━━━━━━━━━━━━\u001b[0m\u001b[37m\u001b[0m \u001b[1m1s\u001b[0m 2ms/step - loss: 729140608.0000\n",
      "Epoch 2/50\n",
      "\u001b[1m57/57\u001b[0m \u001b[32m━━━━━━━━━━━━━━━━━━━━\u001b[0m\u001b[37m\u001b[0m \u001b[1m0s\u001b[0m 1ms/step - loss: 730657728.0000\n",
      "Epoch 3/50\n",
      "\u001b[1m57/57\u001b[0m \u001b[32m━━━━━━━━━━━━━━━━━━━━\u001b[0m\u001b[37m\u001b[0m \u001b[1m0s\u001b[0m 2ms/step - loss: 729938368.0000\n",
      "Epoch 4/50\n",
      "\u001b[1m57/57\u001b[0m \u001b[32m━━━━━━━━━━━━━━━━━━━━\u001b[0m\u001b[37m\u001b[0m \u001b[1m0s\u001b[0m 2ms/step - loss: 733913280.0000\n",
      "Epoch 5/50\n",
      "\u001b[1m57/57\u001b[0m \u001b[32m━━━━━━━━━━━━━━━━━━━━\u001b[0m\u001b[37m\u001b[0m \u001b[1m0s\u001b[0m 2ms/step - loss: 734848128.0000\n",
      "Epoch 6/50\n",
      "\u001b[1m57/57\u001b[0m \u001b[32m━━━━━━━━━━━━━━━━━━━━\u001b[0m\u001b[37m\u001b[0m \u001b[1m0s\u001b[0m 2ms/step - loss: 739259072.0000\n",
      "Epoch 7/50\n",
      "\u001b[1m57/57\u001b[0m \u001b[32m━━━━━━━━━━━━━━━━━━━━\u001b[0m\u001b[37m\u001b[0m \u001b[1m0s\u001b[0m 2ms/step - loss: 739529280.0000\n",
      "Epoch 8/50\n",
      "\u001b[1m57/57\u001b[0m \u001b[32m━━━━━━━━━━━━━━━━━━━━\u001b[0m\u001b[37m\u001b[0m \u001b[1m0s\u001b[0m 1ms/step - loss: 743163136.0000\n",
      "Epoch 9/50\n",
      "\u001b[1m57/57\u001b[0m \u001b[32m━━━━━━━━━━━━━━━━━━━━\u001b[0m\u001b[37m\u001b[0m \u001b[1m0s\u001b[0m 2ms/step - loss: 731352576.0000\n",
      "Epoch 10/50\n",
      "\u001b[1m57/57\u001b[0m \u001b[32m━━━━━━━━━━━━━━━━━━━━\u001b[0m\u001b[37m\u001b[0m \u001b[1m0s\u001b[0m 2ms/step - loss: 728452992.0000\n",
      "Epoch 11/50\n",
      "\u001b[1m57/57\u001b[0m \u001b[32m━━━━━━━━━━━━━━━━━━━━\u001b[0m\u001b[37m\u001b[0m \u001b[1m0s\u001b[0m 1ms/step - loss: 730915584.0000\n",
      "Epoch 12/50\n",
      "\u001b[1m57/57\u001b[0m \u001b[32m━━━━━━━━━━━━━━━━━━━━\u001b[0m\u001b[37m\u001b[0m \u001b[1m0s\u001b[0m 2ms/step - loss: 721139200.0000\n",
      "Epoch 13/50\n",
      "\u001b[1m57/57\u001b[0m \u001b[32m━━━━━━━━━━━━━━━━━━━━\u001b[0m\u001b[37m\u001b[0m \u001b[1m0s\u001b[0m 3ms/step - loss: 716703296.0000\n",
      "Epoch 14/50\n",
      "\u001b[1m57/57\u001b[0m \u001b[32m━━━━━━━━━━━━━━━━━━━━\u001b[0m\u001b[37m\u001b[0m \u001b[1m0s\u001b[0m 2ms/step - loss: 725498880.0000\n",
      "Epoch 15/50\n",
      "\u001b[1m57/57\u001b[0m \u001b[32m━━━━━━━━━━━━━━━━━━━━\u001b[0m\u001b[37m\u001b[0m \u001b[1m0s\u001b[0m 2ms/step - loss: 725086208.0000\n",
      "Epoch 16/50\n",
      "\u001b[1m57/57\u001b[0m \u001b[32m━━━━━━━━━━━━━━━━━━━━\u001b[0m\u001b[37m\u001b[0m \u001b[1m0s\u001b[0m 2ms/step - loss: 719617920.0000\n",
      "Epoch 17/50\n",
      "\u001b[1m57/57\u001b[0m \u001b[32m━━━━━━━━━━━━━━━━━━━━\u001b[0m\u001b[37m\u001b[0m \u001b[1m0s\u001b[0m 2ms/step - loss: 721470400.0000\n",
      "Epoch 18/50\n",
      "\u001b[1m57/57\u001b[0m \u001b[32m━━━━━━━━━━━━━━━━━━━━\u001b[0m\u001b[37m\u001b[0m \u001b[1m0s\u001b[0m 2ms/step - loss: 707270720.0000\n",
      "Epoch 19/50\n",
      "\u001b[1m57/57\u001b[0m \u001b[32m━━━━━━━━━━━━━━━━━━━━\u001b[0m\u001b[37m\u001b[0m \u001b[1m0s\u001b[0m 1ms/step - loss: 721470912.0000\n",
      "Epoch 20/50\n",
      "\u001b[1m57/57\u001b[0m \u001b[32m━━━━━━━━━━━━━━━━━━━━\u001b[0m\u001b[37m\u001b[0m \u001b[1m0s\u001b[0m 2ms/step - loss: 717901120.0000\n",
      "Epoch 21/50\n",
      "\u001b[1m57/57\u001b[0m \u001b[32m━━━━━━━━━━━━━━━━━━━━\u001b[0m\u001b[37m\u001b[0m \u001b[1m0s\u001b[0m 2ms/step - loss: 712971968.0000\n",
      "Epoch 22/50\n",
      "\u001b[1m57/57\u001b[0m \u001b[32m━━━━━━━━━━━━━━━━━━━━\u001b[0m\u001b[37m\u001b[0m \u001b[1m0s\u001b[0m 2ms/step - loss: 697987328.0000\n",
      "Epoch 23/50\n",
      "\u001b[1m57/57\u001b[0m \u001b[32m━━━━━━━━━━━━━━━━━━━━\u001b[0m\u001b[37m\u001b[0m \u001b[1m0s\u001b[0m 2ms/step - loss: 712104704.0000\n",
      "Epoch 24/50\n",
      "\u001b[1m57/57\u001b[0m \u001b[32m━━━━━━━━━━━━━━━━━━━━\u001b[0m\u001b[37m\u001b[0m \u001b[1m0s\u001b[0m 2ms/step - loss: 702442944.0000\n",
      "Epoch 25/50\n",
      "\u001b[1m57/57\u001b[0m \u001b[32m━━━━━━━━━━━━━━━━━━━━\u001b[0m\u001b[37m\u001b[0m \u001b[1m0s\u001b[0m 2ms/step - loss: 697675136.0000\n",
      "Epoch 26/50\n",
      "\u001b[1m57/57\u001b[0m \u001b[32m━━━━━━━━━━━━━━━━━━━━\u001b[0m\u001b[37m\u001b[0m \u001b[1m0s\u001b[0m 2ms/step - loss: 702065600.0000\n",
      "Epoch 27/50\n",
      "\u001b[1m57/57\u001b[0m \u001b[32m━━━━━━━━━━━━━━━━━━━━\u001b[0m\u001b[37m\u001b[0m \u001b[1m0s\u001b[0m 2ms/step - loss: 703668160.0000\n",
      "Epoch 28/50\n",
      "\u001b[1m57/57\u001b[0m \u001b[32m━━━━━━━━━━━━━━━━━━━━\u001b[0m\u001b[37m\u001b[0m \u001b[1m0s\u001b[0m 2ms/step - loss: 688482560.0000\n",
      "Epoch 29/50\n",
      "\u001b[1m57/57\u001b[0m \u001b[32m━━━━━━━━━━━━━━━━━━━━\u001b[0m\u001b[37m\u001b[0m \u001b[1m0s\u001b[0m 2ms/step - loss: 678267968.0000\n",
      "Epoch 30/50\n",
      "\u001b[1m57/57\u001b[0m \u001b[32m━━━━━━━━━━━━━━━━━━━━\u001b[0m\u001b[37m\u001b[0m \u001b[1m0s\u001b[0m 2ms/step - loss: 682540544.0000\n",
      "Epoch 31/50\n",
      "\u001b[1m57/57\u001b[0m \u001b[32m━━━━━━━━━━━━━━━━━━━━\u001b[0m\u001b[37m\u001b[0m \u001b[1m0s\u001b[0m 2ms/step - loss: 682918464.0000\n",
      "Epoch 32/50\n",
      "\u001b[1m57/57\u001b[0m \u001b[32m━━━━━━━━━━━━━━━━━━━━\u001b[0m\u001b[37m\u001b[0m \u001b[1m0s\u001b[0m 2ms/step - loss: 677681472.0000\n",
      "Epoch 33/50\n",
      "\u001b[1m57/57\u001b[0m \u001b[32m━━━━━━━━━━━━━━━━━━━━\u001b[0m\u001b[37m\u001b[0m \u001b[1m0s\u001b[0m 2ms/step - loss: 675919808.0000\n",
      "Epoch 34/50\n",
      "\u001b[1m57/57\u001b[0m \u001b[32m━━━━━━━━━━━━━━━━━━━━\u001b[0m\u001b[37m\u001b[0m \u001b[1m0s\u001b[0m 2ms/step - loss: 672527808.0000\n",
      "Epoch 35/50\n",
      "\u001b[1m57/57\u001b[0m \u001b[32m━━━━━━━━━━━━━━━━━━━━\u001b[0m\u001b[37m\u001b[0m \u001b[1m0s\u001b[0m 2ms/step - loss: 660238400.0000\n",
      "Epoch 36/50\n",
      "\u001b[1m57/57\u001b[0m \u001b[32m━━━━━━━━━━━━━━━━━━━━\u001b[0m\u001b[37m\u001b[0m \u001b[1m0s\u001b[0m 2ms/step - loss: 673070720.0000\n",
      "Epoch 37/50\n",
      "\u001b[1m57/57\u001b[0m \u001b[32m━━━━━━━━━━━━━━━━━━━━\u001b[0m\u001b[37m\u001b[0m \u001b[1m0s\u001b[0m 2ms/step - loss: 671019456.0000\n",
      "Epoch 38/50\n",
      "\u001b[1m57/57\u001b[0m \u001b[32m━━━━━━━━━━━━━━━━━━━━\u001b[0m\u001b[37m\u001b[0m \u001b[1m0s\u001b[0m 2ms/step - loss: 668185408.0000\n",
      "Epoch 39/50\n",
      "\u001b[1m57/57\u001b[0m \u001b[32m━━━━━━━━━━━━━━━━━━━━\u001b[0m\u001b[37m\u001b[0m \u001b[1m0s\u001b[0m 2ms/step - loss: 664006272.0000\n",
      "Epoch 40/50\n",
      "\u001b[1m57/57\u001b[0m \u001b[32m━━━━━━━━━━━━━━━━━━━━\u001b[0m\u001b[37m\u001b[0m \u001b[1m0s\u001b[0m 2ms/step - loss: 649383360.0000\n",
      "Epoch 41/50\n",
      "\u001b[1m57/57\u001b[0m \u001b[32m━━━━━━━━━━━━━━━━━━━━\u001b[0m\u001b[37m\u001b[0m \u001b[1m0s\u001b[0m 2ms/step - loss: 657592576.0000\n",
      "Epoch 42/50\n",
      "\u001b[1m57/57\u001b[0m \u001b[32m━━━━━━━━━━━━━━━━━━━━\u001b[0m\u001b[37m\u001b[0m \u001b[1m0s\u001b[0m 2ms/step - loss: 647593280.0000\n",
      "Epoch 43/50\n",
      "\u001b[1m57/57\u001b[0m \u001b[32m━━━━━━━━━━━━━━━━━━━━\u001b[0m\u001b[37m\u001b[0m \u001b[1m0s\u001b[0m 2ms/step - loss: 651342272.0000\n",
      "Epoch 44/50\n",
      "\u001b[1m57/57\u001b[0m \u001b[32m━━━━━━━━━━━━━━━━━━━━\u001b[0m\u001b[37m\u001b[0m \u001b[1m0s\u001b[0m 1ms/step - loss: 639131392.0000\n",
      "Epoch 45/50\n",
      "\u001b[1m57/57\u001b[0m \u001b[32m━━━━━━━━━━━━━━━━━━━━\u001b[0m\u001b[37m\u001b[0m \u001b[1m0s\u001b[0m 1ms/step - loss: 644396224.0000\n",
      "Epoch 46/50\n",
      "\u001b[1m57/57\u001b[0m \u001b[32m━━━━━━━━━━━━━━━━━━━━\u001b[0m\u001b[37m\u001b[0m \u001b[1m0s\u001b[0m 1ms/step - loss: 632021696.0000\n",
      "Epoch 47/50\n",
      "\u001b[1m57/57\u001b[0m \u001b[32m━━━━━━━━━━━━━━━━━━━━\u001b[0m\u001b[37m\u001b[0m \u001b[1m0s\u001b[0m 1ms/step - loss: 617720960.0000\n",
      "Epoch 48/50\n",
      "\u001b[1m57/57\u001b[0m \u001b[32m━━━━━━━━━━━━━━━━━━━━\u001b[0m\u001b[37m\u001b[0m \u001b[1m0s\u001b[0m 2ms/step - loss: 618642944.0000\n",
      "Epoch 49/50\n",
      "\u001b[1m57/57\u001b[0m \u001b[32m━━━━━━━━━━━━━━━━━━━━\u001b[0m\u001b[37m\u001b[0m \u001b[1m0s\u001b[0m 2ms/step - loss: 622281024.0000\n",
      "Epoch 50/50\n",
      "\u001b[1m57/57\u001b[0m \u001b[32m━━━━━━━━━━━━━━━━━━━━\u001b[0m\u001b[37m\u001b[0m \u001b[1m0s\u001b[0m 2ms/step - loss: 620521088.0000\n",
      "\u001b[1m15/15\u001b[0m \u001b[32m━━━━━━━━━━━━━━━━━━━━\u001b[0m\u001b[37m\u001b[0m \u001b[1m0s\u001b[0m 2ms/step - loss: 621811456.0000 \n",
      "Test Loss: 602520576.0\n"
     ]
    }
   ],
   "source": [
    "# Compile the model\n",
    "model.compile(optimizer='adam', loss='mean_squared_error')\n",
    "\n",
    "# Train the model\n",
    "model.fit(X_train, y_train, epochs=50, batch_size=32, verbose=1)\n",
    "\n",
    "# Evaluate the model on test data\n",
    "loss = model.evaluate(X_test, y_test)\n",
    "print(f'Test Loss: {loss}')\n"
   ]
  },
  {
   "cell_type": "code",
   "execution_count": 18,
   "id": "9c6dcf98",
   "metadata": {},
   "outputs": [
    {
     "name": "stdout",
     "output_type": "stream",
     "text": [
      "\u001b[1m15/15\u001b[0m \u001b[32m━━━━━━━━━━━━━━━━━━━━\u001b[0m\u001b[37m\u001b[0m \u001b[1m0s\u001b[0m 4ms/step\n"
     ]
    }
   ],
   "source": [
    "predictions = model.predict(X_test)"
   ]
  },
  {
   "cell_type": "code",
   "execution_count": 19,
   "id": "6c205593",
   "metadata": {},
   "outputs": [
    {
     "data": {
      "text/plain": [
       "(449, 1)"
      ]
     },
     "execution_count": 19,
     "metadata": {},
     "output_type": "execute_result"
    }
   ],
   "source": [
    "predictions.shape"
   ]
  },
  {
   "cell_type": "code",
   "execution_count": 20,
   "id": "62455b1a",
   "metadata": {},
   "outputs": [
    {
     "data": {
      "text/plain": [
       "Date\n",
       "2021-09-13    34577.570312\n",
       "2023-12-21    37385.968750\n",
       "2021-03-29    33066.960938\n",
       "2016-01-13    16379.049805\n",
       "2017-10-19    23328.630859\n",
       "Name: Targetprice, dtype: float64"
      ]
     },
     "execution_count": 20,
     "metadata": {},
     "output_type": "execute_result"
    }
   ],
   "source": [
    "y_test.head()"
   ]
  }
 ],
 "metadata": {
  "kernelspec": {
   "display_name": "Python 3 (ipykernel)",
   "language": "python",
   "name": "python3"
  },
  "language_info": {
   "codemirror_mode": {
    "name": "ipython",
    "version": 3
   },
   "file_extension": ".py",
   "mimetype": "text/x-python",
   "name": "python",
   "nbconvert_exporter": "python",
   "pygments_lexer": "ipython3",
   "version": "3.9.19"
  }
 },
 "nbformat": 4,
 "nbformat_minor": 5
}
